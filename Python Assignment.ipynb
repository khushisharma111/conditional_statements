{
 "cells": [
  {
   "cell_type": "markdown",
   "id": "876af987",
   "metadata": {},
   "source": [
    "Question 1: Counting Odd Numbers\n",
    "Write a program that continuously takes input from the user until they enter a negative number. \n",
    "The program should then print the count of all the odd numbers entered.   "
   ]
  },
  {
   "cell_type": "code",
   "execution_count": null,
   "id": "2db9c430",
   "metadata": {},
   "outputs": [],
   "source": [
    "count = 0\n",
    "\n",
    "\n",
    "while True:\n",
    "    num = int(input())\n",
    "    \n",
    "    if num>0:\n",
    "        if num%2!=0:\n",
    "            count+=1\n",
    "    else:\n",
    "        break\n",
    "print(count)"
   ]
  },
  {
   "cell_type": "code",
   "execution_count": null,
   "id": "774ef53f",
   "metadata": {},
   "outputs": [],
   "source": [
    "count"
   ]
  },
  {
   "cell_type": "code",
   "execution_count": null,
   "id": "925a939a",
   "metadata": {},
   "outputs": [],
   "source": []
  },
  {
   "cell_type": "markdown",
   "id": "53456fa2",
   "metadata": {},
   "source": [
    "Question 2: Guessing Game\n",
    "Create a guessing game where the computer generates a random number between 1 and 100,\n",
    "and the player has to guess it. \n",
    "The game should provide feedback on whether the guess is too high or too low,\n",
    "and it should continue until the player guesses the correct number."
   ]
  },
  {
   "cell_type": "code",
   "execution_count": null,
   "id": "92d1f0fa",
   "metadata": {},
   "outputs": [],
   "source": [
    "import numpy as np"
   ]
  },
  {
   "cell_type": "code",
   "execution_count": null,
   "id": "1daa119d",
   "metadata": {},
   "outputs": [],
   "source": [
    "random=np.random.randint(1,100)\n",
    "\n",
    "while True:\n",
    "    guess=int(input(\"Any Guesses??\"))\n",
    "    \n",
    "    if guess==random:\n",
    "        print(\"Congratulations yoy guessed rigth!!\")\n",
    "        break\n",
    "        \n",
    "    elif guess<random:\n",
    "        print(\"Try Higher Number\")\n",
    "        \n",
    "    else:\n",
    "        print(\"Try Lower Number\")"
   ]
  },
  {
   "cell_type": "markdown",
   "id": "086391ef",
   "metadata": {},
   "source": [
    "# Question 3: Password Validation\n",
    "Write a program that repeatedly asks the user for a password. The program should keep asking until the user enters a password that meets the following criteria:\n",
    "\n",
    "Contains at least 8 characters\n",
    "Contains at least one uppercase letter\n",
    "Contains at least one lowercase letter\n",
    "Contains at least one digit         "
   ]
  },
  {
   "cell_type": "code",
   "execution_count": null,
   "id": "d0543388",
   "metadata": {},
   "outputs": [],
   "source": [
    "print(\"contains 8 characters,one uppercase letter ,one lowercase letter,one digit\")\n",
    "password=input(\"Enter your password:\")\n"
   ]
  },
  {
   "cell_type": "code",
   "execution_count": null,
   "id": "96c642ec",
   "metadata": {},
   "outputs": [],
   "source": [
    "if len(password)>=8 and any([i.isupper() for i in password]) and any([i.lower() for i in password]) and any([i.isdigit() for i in password]):\n",
    "    print(\"Correct password\")\n",
    "else:\n",
    "    print(\"invalid password\")"
   ]
  },
  {
   "cell_type": "code",
   "execution_count": null,
   "id": "e46d4750",
   "metadata": {},
   "outputs": [],
   "source": [
    "if len(password)>=8 and any([i.isupper() for i in password])\\\n",
    "and any([i.lower() for i in password]) and any([i.isdigit() for i in password]):\n",
    "    print('lgin allowed')\n",
    "else:\n",
    "    print('access denied')"
   ]
  },
  {
   "cell_type": "markdown",
   "id": "d537581a",
   "metadata": {},
   "source": [
    "# Questions on For Loop"
   ]
  },
  {
   "cell_type": "markdown",
   "id": "62bcbcc2",
   "metadata": {},
   "source": [
    "Question 1: Print Even Numbers Write a program that prints all even numbers between 1 and 20.\n"
   ]
  },
  {
   "cell_type": "code",
   "execution_count": null,
   "id": "6e9c2766",
   "metadata": {},
   "outputs": [],
   "source": [
    "n=[]\n",
    "for i in range(1,21):\n",
    "   if i%2==0:\n",
    "    n.append(i)\n",
    "    "
   ]
  },
  {
   "cell_type": "code",
   "execution_count": null,
   "id": "1db6523b",
   "metadata": {},
   "outputs": [],
   "source": [
    "n"
   ]
  },
  {
   "cell_type": "code",
   "execution_count": null,
   "id": "0c36c5ef",
   "metadata": {},
   "outputs": [],
   "source": [
    "[i for i in range(1,21) if i%2==0]"
   ]
  },
  {
   "cell_type": "code",
   "execution_count": null,
   "id": "fdde4779",
   "metadata": {},
   "outputs": [],
   "source": [
    "for n in range(2,21,2):\n",
    "    print(n,end=\" \")"
   ]
  },
  {
   "cell_type": "code",
   "execution_count": null,
   "id": "edcecd9e",
   "metadata": {},
   "outputs": [],
   "source": []
  },
  {
   "cell_type": "markdown",
   "id": "fb8beb0d",
   "metadata": {},
   "source": [
    "Question 2: Calculate Factorial Write a program that calculates the factorial of a given positive integer.\n"
   ]
  },
  {
   "cell_type": "code",
   "execution_count": null,
   "id": "cbb0a4dd",
   "metadata": {},
   "outputs": [],
   "source": [
    "n=int(input(\"Enter only positive integer:\"))\n",
    "if n<0:\n",
    "    print(\"Please enter positive number\")\n",
    "else:\n",
    "    fact=1\n",
    "    for i in range(1,n+1):\n",
    "        fact=fact*i\n",
    "    print(\"Factorial of\",n,\"is\",fact)"
   ]
  },
  {
   "cell_type": "code",
   "execution_count": null,
   "id": "77f1b7c1",
   "metadata": {},
   "outputs": [],
   "source": []
  },
  {
   "cell_type": "markdown",
   "id": "e2f3e32e",
   "metadata": {},
   "source": [
    "Question 3: Print Multiplication Table Write a program that takes an integer as input and prints its multiplication table up to 10."
   ]
  },
  {
   "cell_type": "code",
   "execution_count": null,
   "id": "12ea6e16",
   "metadata": {},
   "outputs": [],
   "source": [
    "num=int(input(\"Enter any number:\"))\n",
    "\n",
    "for i in range(1,11):\n",
    "    result=num*i\n",
    "    \n",
    "    print(num,'*',i,'=',result)"
   ]
  },
  {
   "cell_type": "code",
   "execution_count": null,
   "id": "b818f70d",
   "metadata": {},
   "outputs": [],
   "source": []
  },
  {
   "cell_type": "markdown",
   "id": "64ba4281",
   "metadata": {},
   "source": [
    "Question 4: Calculate Sum of Digits Write a program that calculates the sum of the digits of a given number."
   ]
  },
  {
   "cell_type": "code",
   "execution_count": null,
   "id": "b438cfd3",
   "metadata": {},
   "outputs": [],
   "source": [
    "num=int(input('Enter numder :'))\n",
    "\n",
    "sum_of_digits =1\n",
    "while num>1:\n",
    "    digits = num%10\n",
    "    sum_of_digits+=digits\n",
    "    num//=10\n",
    "    "
   ]
  },
  {
   "cell_type": "code",
   "execution_count": null,
   "id": "8989838e",
   "metadata": {},
   "outputs": [],
   "source": [
    "sum_of_digits"
   ]
  },
  {
   "cell_type": "code",
   "execution_count": null,
   "id": "b4d56c4f",
   "metadata": {},
   "outputs": [],
   "source": []
  },
  {
   "cell_type": "markdown",
   "id": "60df2dc0",
   "metadata": {},
   "source": [
    "Question 5: Calculate Fibonacci Series Write a program that generates the Fibonacci series up to a given number of terms."
   ]
  },
  {
   "cell_type": "code",
   "execution_count": null,
   "id": "96962dc0",
   "metadata": {},
   "outputs": [],
   "source": [
    "num=int(input(\"Enter any number:\"))\n",
    "\n",
    "i=2\n",
    "a=0\n",
    "b=1\n",
    "print(a,b,end=\" \")\n",
    "while(i<num):\n",
    "    c=a+b\n",
    "    print(c,end=\" \")\n",
    "    a=b\n",
    "    b=c\n",
    "    i+=1"
   ]
  },
  {
   "cell_type": "code",
   "execution_count": null,
   "id": "dd3a7adc",
   "metadata": {},
   "outputs": [],
   "source": []
  },
  {
   "cell_type": "markdown",
   "id": "d175027d",
   "metadata": {},
   "source": [
    "# Hollow Square Pattern"
   ]
  },
  {
   "cell_type": "markdown",
   "id": "2ada04b4",
   "metadata": {},
   "source": [
    "# Write a program to print a hollow square pattern of asterisks (*) with a side length of 5.\n",
    "\n",
    " *\n",
    "*   *\n",
    "*   *\n",
    "*   *\n",
    " *"
   ]
  },
  {
   "cell_type": "code",
   "execution_count": 7,
   "id": "6bbc7213",
   "metadata": {},
   "outputs": [],
   "source": [
    "n = 5"
   ]
  },
  {
   "cell_type": "raw",
   "id": "b9292d74",
   "metadata": {},
   "source": [
    "*****\n",
    "*   *\n",
    "*   * \n",
    "*   *\n",
    "*****"
   ]
  },
  {
   "cell_type": "code",
   "execution_count": 10,
   "id": "e78e4e4e",
   "metadata": {},
   "outputs": [
    {
     "name": "stdout",
     "output_type": "stream",
     "text": [
      "*****\n",
      "*   *\n",
      "*   *\n",
      "*   *\n",
      "*****\n"
     ]
    }
   ],
   "source": [
    "for i in range(1,n+1):\n",
    "    if i==1 or i==5:\n",
    "        print(\"*\"*n)\n",
    "    else:\n",
    "        print('*'+ \" \"*(n-2) + \"*\")"
   ]
  },
  {
   "cell_type": "raw",
   "id": "70d81d59",
   "metadata": {},
   "source": [
    "Write a program to print a right triangle number pattern\n",
    "1\n",
    "12\n",
    "123\n",
    "1234\n",
    "12345"
   ]
  },
  {
   "cell_type": "code",
   "execution_count": null,
   "id": "bb4f75ef",
   "metadata": {},
   "outputs": [],
   "source": [
    "for i in range(1,6):\n",
    "    for j in range(1,i+1):\n",
    "        print(j,end=\" \")\n",
    "    print()"
   ]
  },
  {
   "cell_type": "code",
   "execution_count": null,
   "id": "8c19a4c9",
   "metadata": {},
   "outputs": [],
   "source": [
    "for i in range(1,6):\n",
    "    for j in range(1,i+1):\n",
    "        print(j, end=\" \")\n",
    "    print()"
   ]
  },
  {
   "cell_type": "code",
   "execution_count": null,
   "id": "0400daf5",
   "metadata": {},
   "outputs": [],
   "source": []
  }
 ],
 "metadata": {
  "kernelspec": {
   "display_name": "Python 3 (ipykernel)",
   "language": "python",
   "name": "python3"
  },
  "language_info": {
   "codemirror_mode": {
    "name": "ipython",
    "version": 3
   },
   "file_extension": ".py",
   "mimetype": "text/x-python",
   "name": "python",
   "nbconvert_exporter": "python",
   "pygments_lexer": "ipython3",
   "version": "3.10.9"
  }
 },
 "nbformat": 4,
 "nbformat_minor": 5
}
