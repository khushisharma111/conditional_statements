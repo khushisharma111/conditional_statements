{
 "cells": [
  {
   "cell_type": "markdown",
   "id": "10457ee5",
   "metadata": {},
   "source": [
    "Question 1: Grade Classifier Write a program that takes a student's \n",
    "    numerical grade as input and prints their corresponding letter grade according to the following scale:\n",
    "\n",
    "90 or above: A 80-89: B 70-79: C 60-69: D Below 60: F"
   ]
  },
  {
   "cell_type": "code",
   "execution_count": 3,
   "id": "d616563a",
   "metadata": {},
   "outputs": [
    {
     "name": "stdout",
     "output_type": "stream",
     "text": [
      "Enter your marks:55\n",
      "F Grade\n"
     ]
    }
   ],
   "source": [
    "marks=int(input(\"Enter your marks:\"))\n",
    "if marks>=90:\n",
    "    print(\"A Grade\")\n",
    "    \n",
    "elif marks>80 and marks<90: #marks>=80\n",
    "    print(\"B Grade\")\n",
    "    \n",
    "elif marks>70 and marks<80:\n",
    "    print(\"C Grade\")\n",
    "    \n",
    "elif marks>60 and marks<70:\n",
    "    print(\"D Grade\")\n",
    "    \n",
    "else:\n",
    "    print(\"F Grade\")"
   ]
  },
  {
   "cell_type": "code",
   "execution_count": null,
   "id": "37d1ab98",
   "metadata": {},
   "outputs": [],
   "source": []
  },
  {
   "cell_type": "markdown",
   "id": "dda81ac0",
   "metadata": {},
   "source": [
    "\n",
    "Question 2: Even or Odd Write a program that takes an integer as input and determines whether it is even or odd.\n"
   ]
  },
  {
   "cell_type": "code",
   "execution_count": 4,
   "id": "da10deb8",
   "metadata": {},
   "outputs": [
    {
     "name": "stdout",
     "output_type": "stream",
     "text": [
      "Enter your number:5\n",
      "Number is odd\n"
     ]
    }
   ],
   "source": [
    "n=int(input(\"Enter your number:\"))\n",
    "if n%2!=0:\n",
    "    print(\"Number is odd\")\n",
    "    \n",
    "else:\n",
    "    print(\"Number is even\")"
   ]
  },
  {
   "cell_type": "code",
   "execution_count": null,
   "id": "9f0a4f98",
   "metadata": {},
   "outputs": [],
   "source": []
  },
  {
   "cell_type": "markdown",
   "id": "646dfa2c",
   "metadata": {},
   "source": [
    "Question 3: Leap Year Checker Write a program that checks if a given year is a leap year.\n",
    "    A leap year is either divisible by 4 but not by 100, or divisible by 400."
   ]
  },
  {
   "cell_type": "code",
   "execution_count": 4,
   "id": "c69112e6",
   "metadata": {},
   "outputs": [
    {
     "name": "stdout",
     "output_type": "stream",
     "text": [
      "Enter you year:2023\n",
      "2023 is not leap year\n"
     ]
    }
   ],
   "source": [
    "y=int(input(\"Enter you year:\"))\n",
    "\n",
    "if (y%4==0):\n",
    "    print(y,\"is a leap year\")\n",
    "    \n",
    "else:\n",
    "    print(y,\"is not leap year\")"
   ]
  },
  {
   "cell_type": "code",
   "execution_count": null,
   "id": "0437a8c9",
   "metadata": {},
   "outputs": [],
   "source": []
  },
  {
   "cell_type": "markdown",
   "id": "eab01eed",
   "metadata": {},
   "source": [
    "Question 4: Positive, Negative, or Zero Write a program that takes a number\n",
    "    as input and prints whether it is positive,negative, or zero"
   ]
  },
  {
   "cell_type": "code",
   "execution_count": 7,
   "id": "0a0ce0a3",
   "metadata": {},
   "outputs": [
    {
     "name": "stdout",
     "output_type": "stream",
     "text": [
      "Enter your number:0\n",
      "0.0 is zero\n"
     ]
    }
   ],
   "source": [
    "num=float(input(\"Enter your number:\"))\n",
    "\n",
    "if num>0 :\n",
    "    print(num,\"is positive\")\n",
    "    \n",
    "elif num<0 :\n",
    "    print(num,\"is negative\")\n",
    "    \n",
    "else:\n",
    "    print(num,\"is zero\")"
   ]
  },
  {
   "cell_type": "code",
   "execution_count": null,
   "id": "77a39de8",
   "metadata": {},
   "outputs": [],
   "source": []
  },
  {
   "cell_type": "code",
   "execution_count": null,
   "id": "47d03a9e",
   "metadata": {},
   "outputs": [],
   "source": []
  },
  {
   "cell_type": "markdown",
   "id": "13b7bc88",
   "metadata": {},
   "source": [
    "Question 5: Triangle Type Write a program that takes the lengths of three sides of a triangle as input and determines\n",
    "    whether it's an equilateral, isosceles, or scalene triangle"
   ]
  },
  {
   "cell_type": "code",
   "execution_count": 11,
   "id": "f2791895",
   "metadata": {},
   "outputs": [
    {
     "name": "stdout",
     "output_type": "stream",
     "text": [
      "Enter your side:2\n",
      "Enter your side:2\n",
      "Enter your side:2\n",
      "This is equilateral triangle\n"
     ]
    }
   ],
   "source": [
    "x=float(input(\"Enter your side:\"))\n",
    "y=float(input(\"Enter your side:\"))\n",
    "z=float(input(\"Enter your side:\"))\n",
    "\n",
    "if( x==y==z):\n",
    "    print(\"This is equilateral triangle\")\n",
    "    \n",
    "elif x==y or y==z or z==x:\n",
    "    print(\"This is isosceles triangle\")\n",
    "    \n",
    "else:\n",
    "    print(\"This is scalene triangle\")"
   ]
  },
  {
   "cell_type": "code",
   "execution_count": null,
   "id": "c93b4fda",
   "metadata": {},
   "outputs": [],
   "source": []
  },
  {
   "cell_type": "code",
   "execution_count": null,
   "id": "fb704510",
   "metadata": {},
   "outputs": [],
   "source": []
  }
 ],
 "metadata": {
  "kernelspec": {
   "display_name": "Python 3 (ipykernel)",
   "language": "python",
   "name": "python3"
  },
  "language_info": {
   "codemirror_mode": {
    "name": "ipython",
    "version": 3
   },
   "file_extension": ".py",
   "mimetype": "text/x-python",
   "name": "python",
   "nbconvert_exporter": "python",
   "pygments_lexer": "ipython3",
   "version": "3.10.9"
  }
 },
 "nbformat": 4,
 "nbformat_minor": 5
}
